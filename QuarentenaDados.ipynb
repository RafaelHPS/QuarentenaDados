{
  "nbformat": 4,
  "nbformat_minor": 0,
  "metadata": {
    "colab": {
      "name": "QuarentenaDados.ipynb",
      "provenance": [],
      "collapsed_sections": [
        "fOOll1TeGovA",
        "i8DyihOwIJUf",
        "OItlDJi3Ie3w",
        "1AJXmr-LLqGf",
        "Ax287KBgRfdU"
      ],
      "toc_visible": true,
      "mount_file_id": "1FeWVPFAh8nvOMeOrVTrwOm8MqcbOX5Eg",
      "authorship_tag": "ABX9TyNe5bUQ+91NBApUrpyxeFUP",
      "include_colab_link": true
    },
    "kernelspec": {
      "name": "python3",
      "display_name": "Python 3"
    }
  },
  "cells": [
    {
      "cell_type": "markdown",
      "metadata": {
        "id": "view-in-github",
        "colab_type": "text"
      },
      "source": [
        "<a href=\"https://colab.research.google.com/github/RafaelHPS/QuarentenaDados/blob/master/QuarentenaDados.ipynb\" target=\"_parent\"><img src=\"https://colab.research.google.com/assets/colab-badge.svg\" alt=\"Open In Colab\"/></a>"
      ]
    },
    {
      "cell_type": "code",
      "metadata": {
        "id": "JrY4ZR7tDKwP",
        "colab_type": "code",
        "colab": {}
      },
      "source": [
        "import pandas as pd\n",
        "import matplotlib.pyplot as plt\n",
        "import numpy as np\n",
        "import seaborn as sns\n"
      ],
      "execution_count": 0,
      "outputs": []
    },
    {
      "cell_type": "markdown",
      "metadata": {
        "id": "XAYpuFTRkylQ",
        "colab_type": "text"
      },
      "source": [
        "# Aula 01\n"
      ]
    },
    {
      "cell_type": "markdown",
      "metadata": {
        "id": "K1-ViJdu0GOo",
        "colab_type": "text"
      },
      "source": [
        "## Desafio 1 do [Paulo Silveira](https://twitter.com/paulo_caelum)\n",
        "\n",
        "O Paulo fez uma análise rápida e disse que tem 18 filmes sem avaliações, será que ele acertou?\n",
        "\n",
        "Determine quantos filmes não tem avaliações e quais são esses filmes\n"
      ]
    },
    {
      "cell_type": "code",
      "metadata": {
        "id": "Y86SPKXe0Tmw",
        "colab_type": "code",
        "colab": {}
      },
      "source": [
        "movies = pd.read_csv(\"https://raw.githubusercontent.com/RafaelHPS/QuarentenaDados01/master/Arquivos_MovieLens/movies.csv\")\n",
        "ratings = pd.read_csv(\"https://raw.githubusercontent.com/RafaelHPS/QuarentenaDados01/master/Arquivos_MovieLens/ratings.csv\")"
      ],
      "execution_count": 0,
      "outputs": []
    },
    {
      "cell_type": "code",
      "metadata": {
        "id": "SxXSG3gwGYu-",
        "colab_type": "code",
        "colab": {}
      },
      "source": [
        "contagem_notas = ratings[['userId']].groupby(ratings['movieId']).count()\n",
        "contagem_notas.columns = [\"countRating\"]"
      ],
      "execution_count": 0,
      "outputs": []
    },
    {
      "cell_type": "code",
      "metadata": {
        "id": "lKgMR8JI7Ve1",
        "colab_type": "code",
        "outputId": "1261d94e-8a80-4e65-dc72-fb836cd2bf9b",
        "colab": {
          "base_uri": "https://localhost:8080/",
          "height": 235
        }
      },
      "source": [
        "contagem_notas.head()"
      ],
      "execution_count": 6,
      "outputs": [
        {
          "output_type": "execute_result",
          "data": {
            "text/html": [
              "<div>\n",
              "<style scoped>\n",
              "    .dataframe tbody tr th:only-of-type {\n",
              "        vertical-align: middle;\n",
              "    }\n",
              "\n",
              "    .dataframe tbody tr th {\n",
              "        vertical-align: top;\n",
              "    }\n",
              "\n",
              "    .dataframe thead th {\n",
              "        text-align: right;\n",
              "    }\n",
              "</style>\n",
              "<table border=\"1\" class=\"dataframe\">\n",
              "  <thead>\n",
              "    <tr style=\"text-align: right;\">\n",
              "      <th></th>\n",
              "      <th>countRating</th>\n",
              "    </tr>\n",
              "    <tr>\n",
              "      <th>movieId</th>\n",
              "      <th></th>\n",
              "    </tr>\n",
              "  </thead>\n",
              "  <tbody>\n",
              "    <tr>\n",
              "      <th>1</th>\n",
              "      <td>215</td>\n",
              "    </tr>\n",
              "    <tr>\n",
              "      <th>2</th>\n",
              "      <td>110</td>\n",
              "    </tr>\n",
              "    <tr>\n",
              "      <th>3</th>\n",
              "      <td>52</td>\n",
              "    </tr>\n",
              "    <tr>\n",
              "      <th>4</th>\n",
              "      <td>7</td>\n",
              "    </tr>\n",
              "    <tr>\n",
              "      <th>5</th>\n",
              "      <td>49</td>\n",
              "    </tr>\n",
              "  </tbody>\n",
              "</table>\n",
              "</div>"
            ],
            "text/plain": [
              "         countRating\n",
              "movieId             \n",
              "1                215\n",
              "2                110\n",
              "3                 52\n",
              "4                  7\n",
              "5                 49"
            ]
          },
          "metadata": {
            "tags": []
          },
          "execution_count": 6
        }
      ]
    },
    {
      "cell_type": "code",
      "metadata": {
        "id": "4WdOt1adHdf8",
        "colab_type": "code",
        "colab": {}
      },
      "source": [
        "movies_with_count = movies.join(contagem_notas, on=\"movieId\")"
      ],
      "execution_count": 0,
      "outputs": []
    },
    {
      "cell_type": "code",
      "metadata": {
        "id": "CpF2V_x1EQoC",
        "colab_type": "code",
        "colab": {}
      },
      "source": [
        "valores_nulos = pd.isnull(movies_with_count[\"countRating\"]) \n",
        "\n",
        "filmes_sem_voto = movies_with_count[valores_nulos]"
      ],
      "execution_count": 0,
      "outputs": []
    },
    {
      "cell_type": "code",
      "metadata": {
        "id": "Vb2wlDmzGGlW",
        "colab_type": "code",
        "outputId": "ad78dfaa-5fc5-48dd-96b5-65b187309475",
        "colab": {
          "base_uri": "https://localhost:8080/",
          "height": 34
        }
      },
      "source": [
        "quantidade_filmes_sem_voto = filmes_sem_voto[\"movieId\"].count()\n",
        "\n",
        "print(\"A quantidade de filmes sem voto é : \",quantidade_filmes_sem_voto)"
      ],
      "execution_count": 9,
      "outputs": [
        {
          "output_type": "stream",
          "text": [
            "A quantidade de filmes sem voto é :  18\n"
          ],
          "name": "stdout"
        }
      ]
    },
    {
      "cell_type": "code",
      "metadata": {
        "id": "MQCcmZcmFUSp",
        "colab_type": "code",
        "outputId": "b612b57e-2657-42b5-eb66-1507627cba58",
        "colab": {
          "base_uri": "https://localhost:8080/",
          "height": 607
        }
      },
      "source": [
        "filmes_sem_voto"
      ],
      "execution_count": 10,
      "outputs": [
        {
          "output_type": "execute_result",
          "data": {
            "text/html": [
              "<div>\n",
              "<style scoped>\n",
              "    .dataframe tbody tr th:only-of-type {\n",
              "        vertical-align: middle;\n",
              "    }\n",
              "\n",
              "    .dataframe tbody tr th {\n",
              "        vertical-align: top;\n",
              "    }\n",
              "\n",
              "    .dataframe thead th {\n",
              "        text-align: right;\n",
              "    }\n",
              "</style>\n",
              "<table border=\"1\" class=\"dataframe\">\n",
              "  <thead>\n",
              "    <tr style=\"text-align: right;\">\n",
              "      <th></th>\n",
              "      <th>movieId</th>\n",
              "      <th>title</th>\n",
              "      <th>genres</th>\n",
              "      <th>countRating</th>\n",
              "    </tr>\n",
              "  </thead>\n",
              "  <tbody>\n",
              "    <tr>\n",
              "      <th>816</th>\n",
              "      <td>1076</td>\n",
              "      <td>Innocents, The (1961)</td>\n",
              "      <td>Drama|Horror|Thriller</td>\n",
              "      <td>NaN</td>\n",
              "    </tr>\n",
              "    <tr>\n",
              "      <th>2211</th>\n",
              "      <td>2939</td>\n",
              "      <td>Niagara (1953)</td>\n",
              "      <td>Drama|Thriller</td>\n",
              "      <td>NaN</td>\n",
              "    </tr>\n",
              "    <tr>\n",
              "      <th>2499</th>\n",
              "      <td>3338</td>\n",
              "      <td>For All Mankind (1989)</td>\n",
              "      <td>Documentary</td>\n",
              "      <td>NaN</td>\n",
              "    </tr>\n",
              "    <tr>\n",
              "      <th>2587</th>\n",
              "      <td>3456</td>\n",
              "      <td>Color of Paradise, The (Rang-e khoda) (1999)</td>\n",
              "      <td>Drama</td>\n",
              "      <td>NaN</td>\n",
              "    </tr>\n",
              "    <tr>\n",
              "      <th>3118</th>\n",
              "      <td>4194</td>\n",
              "      <td>I Know Where I'm Going! (1945)</td>\n",
              "      <td>Drama|Romance|War</td>\n",
              "      <td>NaN</td>\n",
              "    </tr>\n",
              "    <tr>\n",
              "      <th>4037</th>\n",
              "      <td>5721</td>\n",
              "      <td>Chosen, The (1981)</td>\n",
              "      <td>Drama</td>\n",
              "      <td>NaN</td>\n",
              "    </tr>\n",
              "    <tr>\n",
              "      <th>4506</th>\n",
              "      <td>6668</td>\n",
              "      <td>Road Home, The (Wo de fu qin mu qin) (1999)</td>\n",
              "      <td>Drama|Romance</td>\n",
              "      <td>NaN</td>\n",
              "    </tr>\n",
              "    <tr>\n",
              "      <th>4598</th>\n",
              "      <td>6849</td>\n",
              "      <td>Scrooge (1970)</td>\n",
              "      <td>Drama|Fantasy|Musical</td>\n",
              "      <td>NaN</td>\n",
              "    </tr>\n",
              "    <tr>\n",
              "      <th>4704</th>\n",
              "      <td>7020</td>\n",
              "      <td>Proof (1991)</td>\n",
              "      <td>Comedy|Drama|Romance</td>\n",
              "      <td>NaN</td>\n",
              "    </tr>\n",
              "    <tr>\n",
              "      <th>5020</th>\n",
              "      <td>7792</td>\n",
              "      <td>Parallax View, The (1974)</td>\n",
              "      <td>Thriller</td>\n",
              "      <td>NaN</td>\n",
              "    </tr>\n",
              "    <tr>\n",
              "      <th>5293</th>\n",
              "      <td>8765</td>\n",
              "      <td>This Gun for Hire (1942)</td>\n",
              "      <td>Crime|Film-Noir|Thriller</td>\n",
              "      <td>NaN</td>\n",
              "    </tr>\n",
              "    <tr>\n",
              "      <th>5421</th>\n",
              "      <td>25855</td>\n",
              "      <td>Roaring Twenties, The (1939)</td>\n",
              "      <td>Crime|Drama|Thriller</td>\n",
              "      <td>NaN</td>\n",
              "    </tr>\n",
              "    <tr>\n",
              "      <th>5452</th>\n",
              "      <td>26085</td>\n",
              "      <td>Mutiny on the Bounty (1962)</td>\n",
              "      <td>Adventure|Drama|Romance</td>\n",
              "      <td>NaN</td>\n",
              "    </tr>\n",
              "    <tr>\n",
              "      <th>5749</th>\n",
              "      <td>30892</td>\n",
              "      <td>In the Realms of the Unreal (2004)</td>\n",
              "      <td>Animation|Documentary</td>\n",
              "      <td>NaN</td>\n",
              "    </tr>\n",
              "    <tr>\n",
              "      <th>5824</th>\n",
              "      <td>32160</td>\n",
              "      <td>Twentieth Century (1934)</td>\n",
              "      <td>Comedy</td>\n",
              "      <td>NaN</td>\n",
              "    </tr>\n",
              "    <tr>\n",
              "      <th>5837</th>\n",
              "      <td>32371</td>\n",
              "      <td>Call Northside 777 (1948)</td>\n",
              "      <td>Crime|Drama|Film-Noir</td>\n",
              "      <td>NaN</td>\n",
              "    </tr>\n",
              "    <tr>\n",
              "      <th>5957</th>\n",
              "      <td>34482</td>\n",
              "      <td>Browning Version, The (1951)</td>\n",
              "      <td>Drama</td>\n",
              "      <td>NaN</td>\n",
              "    </tr>\n",
              "    <tr>\n",
              "      <th>7565</th>\n",
              "      <td>85565</td>\n",
              "      <td>Chalet Girl (2011)</td>\n",
              "      <td>Comedy|Romance</td>\n",
              "      <td>NaN</td>\n",
              "    </tr>\n",
              "  </tbody>\n",
              "</table>\n",
              "</div>"
            ],
            "text/plain": [
              "      movieId  ... countRating\n",
              "816      1076  ...         NaN\n",
              "2211     2939  ...         NaN\n",
              "2499     3338  ...         NaN\n",
              "2587     3456  ...         NaN\n",
              "3118     4194  ...         NaN\n",
              "4037     5721  ...         NaN\n",
              "4506     6668  ...         NaN\n",
              "4598     6849  ...         NaN\n",
              "4704     7020  ...         NaN\n",
              "5020     7792  ...         NaN\n",
              "5293     8765  ...         NaN\n",
              "5421    25855  ...         NaN\n",
              "5452    26085  ...         NaN\n",
              "5749    30892  ...         NaN\n",
              "5824    32160  ...         NaN\n",
              "5837    32371  ...         NaN\n",
              "5957    34482  ...         NaN\n",
              "7565    85565  ...         NaN\n",
              "\n",
              "[18 rows x 4 columns]"
            ]
          },
          "metadata": {
            "tags": []
          },
          "execution_count": 10
        }
      ]
    },
    {
      "cell_type": "markdown",
      "metadata": {
        "id": "fOOll1TeGovA",
        "colab_type": "text"
      },
      "source": [
        "## Desafio 2 do [Guilherme Silveira](https://twitter.com/guilhermecaelum)\n",
        "\n",
        "Mudar o nome da coluna nota do dataframe **filmes_com_media** para nota_média após o join."
      ]
    },
    {
      "cell_type": "code",
      "metadata": {
        "id": "qScQdJQoGnOJ",
        "colab_type": "code",
        "outputId": "11796315-eb0a-45ce-f945-13822863486a",
        "colab": {
          "base_uri": "https://localhost:8080/",
          "height": 0
        }
      },
      "source": [
        "notas_medias_por_filme = ratings.groupby(\"movieId\")[\"rating\"].mean()\n",
        "notas_medias_por_filme.head()"
      ],
      "execution_count": 11,
      "outputs": [
        {
          "output_type": "execute_result",
          "data": {
            "text/plain": [
              "movieId\n",
              "1    3.920930\n",
              "2    3.431818\n",
              "3    3.259615\n",
              "4    2.357143\n",
              "5    3.071429\n",
              "Name: rating, dtype: float64"
            ]
          },
          "metadata": {
            "tags": []
          },
          "execution_count": 11
        }
      ]
    },
    {
      "cell_type": "code",
      "metadata": {
        "id": "5aC4cSZlHOKl",
        "colab_type": "code",
        "outputId": "3760a412-417c-4d17-f4c8-302fc6925ec5",
        "colab": {
          "base_uri": "https://localhost:8080/",
          "height": 0
        }
      },
      "source": [
        "filmes_com_media = movies.join(notas_medias_por_filme, on=\"movieId\")\n",
        "filmes_com_media.head()"
      ],
      "execution_count": 12,
      "outputs": [
        {
          "output_type": "execute_result",
          "data": {
            "text/html": [
              "<div>\n",
              "<style scoped>\n",
              "    .dataframe tbody tr th:only-of-type {\n",
              "        vertical-align: middle;\n",
              "    }\n",
              "\n",
              "    .dataframe tbody tr th {\n",
              "        vertical-align: top;\n",
              "    }\n",
              "\n",
              "    .dataframe thead th {\n",
              "        text-align: right;\n",
              "    }\n",
              "</style>\n",
              "<table border=\"1\" class=\"dataframe\">\n",
              "  <thead>\n",
              "    <tr style=\"text-align: right;\">\n",
              "      <th></th>\n",
              "      <th>movieId</th>\n",
              "      <th>title</th>\n",
              "      <th>genres</th>\n",
              "      <th>rating</th>\n",
              "    </tr>\n",
              "  </thead>\n",
              "  <tbody>\n",
              "    <tr>\n",
              "      <th>0</th>\n",
              "      <td>1</td>\n",
              "      <td>Toy Story (1995)</td>\n",
              "      <td>Adventure|Animation|Children|Comedy|Fantasy</td>\n",
              "      <td>3.920930</td>\n",
              "    </tr>\n",
              "    <tr>\n",
              "      <th>1</th>\n",
              "      <td>2</td>\n",
              "      <td>Jumanji (1995)</td>\n",
              "      <td>Adventure|Children|Fantasy</td>\n",
              "      <td>3.431818</td>\n",
              "    </tr>\n",
              "    <tr>\n",
              "      <th>2</th>\n",
              "      <td>3</td>\n",
              "      <td>Grumpier Old Men (1995)</td>\n",
              "      <td>Comedy|Romance</td>\n",
              "      <td>3.259615</td>\n",
              "    </tr>\n",
              "    <tr>\n",
              "      <th>3</th>\n",
              "      <td>4</td>\n",
              "      <td>Waiting to Exhale (1995)</td>\n",
              "      <td>Comedy|Drama|Romance</td>\n",
              "      <td>2.357143</td>\n",
              "    </tr>\n",
              "    <tr>\n",
              "      <th>4</th>\n",
              "      <td>5</td>\n",
              "      <td>Father of the Bride Part II (1995)</td>\n",
              "      <td>Comedy</td>\n",
              "      <td>3.071429</td>\n",
              "    </tr>\n",
              "  </tbody>\n",
              "</table>\n",
              "</div>"
            ],
            "text/plain": [
              "   movieId  ...    rating\n",
              "0        1  ...  3.920930\n",
              "1        2  ...  3.431818\n",
              "2        3  ...  3.259615\n",
              "3        4  ...  2.357143\n",
              "4        5  ...  3.071429\n",
              "\n",
              "[5 rows x 4 columns]"
            ]
          },
          "metadata": {
            "tags": []
          },
          "execution_count": 12
        }
      ]
    },
    {
      "cell_type": "code",
      "metadata": {
        "id": "w6GGy57XHwR-",
        "colab_type": "code",
        "outputId": "fc899c91-30b5-407a-b39e-88fecc4411c8",
        "colab": {
          "base_uri": "https://localhost:8080/",
          "height": 0
        }
      },
      "source": [
        "filmes_com_media.columns = [\"movieId\",\"title\",\"genres\",\"nota_media\"]\n",
        "filmes_com_media.head()"
      ],
      "execution_count": 13,
      "outputs": [
        {
          "output_type": "execute_result",
          "data": {
            "text/html": [
              "<div>\n",
              "<style scoped>\n",
              "    .dataframe tbody tr th:only-of-type {\n",
              "        vertical-align: middle;\n",
              "    }\n",
              "\n",
              "    .dataframe tbody tr th {\n",
              "        vertical-align: top;\n",
              "    }\n",
              "\n",
              "    .dataframe thead th {\n",
              "        text-align: right;\n",
              "    }\n",
              "</style>\n",
              "<table border=\"1\" class=\"dataframe\">\n",
              "  <thead>\n",
              "    <tr style=\"text-align: right;\">\n",
              "      <th></th>\n",
              "      <th>movieId</th>\n",
              "      <th>title</th>\n",
              "      <th>genres</th>\n",
              "      <th>nota_media</th>\n",
              "    </tr>\n",
              "  </thead>\n",
              "  <tbody>\n",
              "    <tr>\n",
              "      <th>0</th>\n",
              "      <td>1</td>\n",
              "      <td>Toy Story (1995)</td>\n",
              "      <td>Adventure|Animation|Children|Comedy|Fantasy</td>\n",
              "      <td>3.920930</td>\n",
              "    </tr>\n",
              "    <tr>\n",
              "      <th>1</th>\n",
              "      <td>2</td>\n",
              "      <td>Jumanji (1995)</td>\n",
              "      <td>Adventure|Children|Fantasy</td>\n",
              "      <td>3.431818</td>\n",
              "    </tr>\n",
              "    <tr>\n",
              "      <th>2</th>\n",
              "      <td>3</td>\n",
              "      <td>Grumpier Old Men (1995)</td>\n",
              "      <td>Comedy|Romance</td>\n",
              "      <td>3.259615</td>\n",
              "    </tr>\n",
              "    <tr>\n",
              "      <th>3</th>\n",
              "      <td>4</td>\n",
              "      <td>Waiting to Exhale (1995)</td>\n",
              "      <td>Comedy|Drama|Romance</td>\n",
              "      <td>2.357143</td>\n",
              "    </tr>\n",
              "    <tr>\n",
              "      <th>4</th>\n",
              "      <td>5</td>\n",
              "      <td>Father of the Bride Part II (1995)</td>\n",
              "      <td>Comedy</td>\n",
              "      <td>3.071429</td>\n",
              "    </tr>\n",
              "  </tbody>\n",
              "</table>\n",
              "</div>"
            ],
            "text/plain": [
              "   movieId  ... nota_media\n",
              "0        1  ...   3.920930\n",
              "1        2  ...   3.431818\n",
              "2        3  ...   3.259615\n",
              "3        4  ...   2.357143\n",
              "4        5  ...   3.071429\n",
              "\n",
              "[5 rows x 4 columns]"
            ]
          },
          "metadata": {
            "tags": []
          },
          "execution_count": 13
        }
      ]
    },
    {
      "cell_type": "markdown",
      "metadata": {
        "id": "i8DyihOwIJUf",
        "colab_type": "text"
      },
      "source": [
        "## Desafio 3 do [Guilherme Silveira](https://twitter.com/guilhermecaelum)\n",
        "\n",
        "Colocar o número de avaliações por filme, isto é, não só a média mas o TOTAL de votos por filme."
      ]
    },
    {
      "cell_type": "code",
      "metadata": {
        "id": "_Qhd3fvTII4d",
        "colab_type": "code",
        "outputId": "a58ad2f3-dd10-4a7e-bdd0-2e6ed05ca613",
        "colab": {
          "base_uri": "https://localhost:8080/",
          "height": 0
        }
      },
      "source": [
        "movies_with_count.head()"
      ],
      "execution_count": 14,
      "outputs": [
        {
          "output_type": "execute_result",
          "data": {
            "text/html": [
              "<div>\n",
              "<style scoped>\n",
              "    .dataframe tbody tr th:only-of-type {\n",
              "        vertical-align: middle;\n",
              "    }\n",
              "\n",
              "    .dataframe tbody tr th {\n",
              "        vertical-align: top;\n",
              "    }\n",
              "\n",
              "    .dataframe thead th {\n",
              "        text-align: right;\n",
              "    }\n",
              "</style>\n",
              "<table border=\"1\" class=\"dataframe\">\n",
              "  <thead>\n",
              "    <tr style=\"text-align: right;\">\n",
              "      <th></th>\n",
              "      <th>movieId</th>\n",
              "      <th>title</th>\n",
              "      <th>genres</th>\n",
              "      <th>countRating</th>\n",
              "    </tr>\n",
              "  </thead>\n",
              "  <tbody>\n",
              "    <tr>\n",
              "      <th>0</th>\n",
              "      <td>1</td>\n",
              "      <td>Toy Story (1995)</td>\n",
              "      <td>Adventure|Animation|Children|Comedy|Fantasy</td>\n",
              "      <td>215.0</td>\n",
              "    </tr>\n",
              "    <tr>\n",
              "      <th>1</th>\n",
              "      <td>2</td>\n",
              "      <td>Jumanji (1995)</td>\n",
              "      <td>Adventure|Children|Fantasy</td>\n",
              "      <td>110.0</td>\n",
              "    </tr>\n",
              "    <tr>\n",
              "      <th>2</th>\n",
              "      <td>3</td>\n",
              "      <td>Grumpier Old Men (1995)</td>\n",
              "      <td>Comedy|Romance</td>\n",
              "      <td>52.0</td>\n",
              "    </tr>\n",
              "    <tr>\n",
              "      <th>3</th>\n",
              "      <td>4</td>\n",
              "      <td>Waiting to Exhale (1995)</td>\n",
              "      <td>Comedy|Drama|Romance</td>\n",
              "      <td>7.0</td>\n",
              "    </tr>\n",
              "    <tr>\n",
              "      <th>4</th>\n",
              "      <td>5</td>\n",
              "      <td>Father of the Bride Part II (1995)</td>\n",
              "      <td>Comedy</td>\n",
              "      <td>49.0</td>\n",
              "    </tr>\n",
              "  </tbody>\n",
              "</table>\n",
              "</div>"
            ],
            "text/plain": [
              "   movieId  ... countRating\n",
              "0        1  ...       215.0\n",
              "1        2  ...       110.0\n",
              "2        3  ...        52.0\n",
              "3        4  ...         7.0\n",
              "4        5  ...        49.0\n",
              "\n",
              "[5 rows x 4 columns]"
            ]
          },
          "metadata": {
            "tags": []
          },
          "execution_count": 14
        }
      ]
    },
    {
      "cell_type": "markdown",
      "metadata": {
        "id": "OItlDJi3Ie3w",
        "colab_type": "text"
      },
      "source": [
        "## Desafio 4 do [Thiago Gonçalves](https://twitter.com/tgcsantos)\n",
        "\n",
        "\n",
        "Arredondar as médias (coluna de nota média) para duas casas decimais.\n"
      ]
    },
    {
      "cell_type": "code",
      "metadata": {
        "id": "vDJjUew1Ijwt",
        "colab_type": "code",
        "colab": {}
      },
      "source": [
        "filmes_com_media_arredondada = filmes_com_media.copy(False)\n",
        "filmes_com_media_arredondada.columns = [\"movieId\",\"title\",\"genres\",\"nota_media_arredondada\"]"
      ],
      "execution_count": 0,
      "outputs": []
    },
    {
      "cell_type": "code",
      "metadata": {
        "id": "uiicjF82JJDh",
        "colab_type": "code",
        "colab": {}
      },
      "source": [
        "filmes_com_media_arredondada[\"nota_media_arredondada\"] = filmes_com_media_arredondada[\"nota_media_arredondada\"].map('{:,.2f}'.format)\n"
      ],
      "execution_count": 0,
      "outputs": []
    },
    {
      "cell_type": "code",
      "metadata": {
        "id": "AvNCHoFwJS1-",
        "colab_type": "code",
        "outputId": "746b6105-0d31-44e8-b2e9-95db085b69a2",
        "colab": {
          "base_uri": "https://localhost:8080/",
          "height": 0
        }
      },
      "source": [
        "filmes_com_media_arredondada.head()"
      ],
      "execution_count": 17,
      "outputs": [
        {
          "output_type": "execute_result",
          "data": {
            "text/html": [
              "<div>\n",
              "<style scoped>\n",
              "    .dataframe tbody tr th:only-of-type {\n",
              "        vertical-align: middle;\n",
              "    }\n",
              "\n",
              "    .dataframe tbody tr th {\n",
              "        vertical-align: top;\n",
              "    }\n",
              "\n",
              "    .dataframe thead th {\n",
              "        text-align: right;\n",
              "    }\n",
              "</style>\n",
              "<table border=\"1\" class=\"dataframe\">\n",
              "  <thead>\n",
              "    <tr style=\"text-align: right;\">\n",
              "      <th></th>\n",
              "      <th>movieId</th>\n",
              "      <th>title</th>\n",
              "      <th>genres</th>\n",
              "      <th>nota_media_arredondada</th>\n",
              "    </tr>\n",
              "  </thead>\n",
              "  <tbody>\n",
              "    <tr>\n",
              "      <th>0</th>\n",
              "      <td>1</td>\n",
              "      <td>Toy Story (1995)</td>\n",
              "      <td>Adventure|Animation|Children|Comedy|Fantasy</td>\n",
              "      <td>3.92</td>\n",
              "    </tr>\n",
              "    <tr>\n",
              "      <th>1</th>\n",
              "      <td>2</td>\n",
              "      <td>Jumanji (1995)</td>\n",
              "      <td>Adventure|Children|Fantasy</td>\n",
              "      <td>3.43</td>\n",
              "    </tr>\n",
              "    <tr>\n",
              "      <th>2</th>\n",
              "      <td>3</td>\n",
              "      <td>Grumpier Old Men (1995)</td>\n",
              "      <td>Comedy|Romance</td>\n",
              "      <td>3.26</td>\n",
              "    </tr>\n",
              "    <tr>\n",
              "      <th>3</th>\n",
              "      <td>4</td>\n",
              "      <td>Waiting to Exhale (1995)</td>\n",
              "      <td>Comedy|Drama|Romance</td>\n",
              "      <td>2.36</td>\n",
              "    </tr>\n",
              "    <tr>\n",
              "      <th>4</th>\n",
              "      <td>5</td>\n",
              "      <td>Father of the Bride Part II (1995)</td>\n",
              "      <td>Comedy</td>\n",
              "      <td>3.07</td>\n",
              "    </tr>\n",
              "  </tbody>\n",
              "</table>\n",
              "</div>"
            ],
            "text/plain": [
              "   movieId  ... nota_media_arredondada\n",
              "0        1  ...                   3.92\n",
              "1        2  ...                   3.43\n",
              "2        3  ...                   3.26\n",
              "3        4  ...                   2.36\n",
              "4        5  ...                   3.07\n",
              "\n",
              "[5 rows x 4 columns]"
            ]
          },
          "metadata": {
            "tags": []
          },
          "execution_count": 17
        }
      ]
    },
    {
      "cell_type": "markdown",
      "metadata": {
        "id": "1AJXmr-LLqGf",
        "colab_type": "text"
      },
      "source": [
        "## Desafio 5 do [Allan Spadini](https://twitter.com/allanspadini)\n",
        "\n",
        "Descobrir os generos dos filmes (quais são eles, únicos). (esse aqui o bicho pega)"
      ]
    },
    {
      "cell_type": "code",
      "metadata": {
        "id": "YPLtJfljJS34",
        "colab_type": "code",
        "colab": {}
      },
      "source": [
        "generos = pd.DataFrame(movies[\"genres\"].str.split(\"|\").tolist(),index=movies[\"movieId\"]).stack()\n",
        "generos = generos.reset_index([0, 'movieId'])\n",
        "generos.columns = ['movieId', 'genres']\n",
        "generos_unicos = pd.DataFrame(generos['genres'].unique().tolist())\n",
        "generos_unicos = generos_unicos.reset_index()\n",
        "generos_unicos.columns = [\"genreId\",\"genre\"]"
      ],
      "execution_count": 0,
      "outputs": []
    },
    {
      "cell_type": "code",
      "metadata": {
        "id": "ipVhW55aJTC-",
        "colab_type": "code",
        "outputId": "bdf69c30-11d7-4500-abe3-dc6a6e67e6b8",
        "colab": {
          "base_uri": "https://localhost:8080/",
          "height": 0
        }
      },
      "source": [
        "generos_unicos"
      ],
      "execution_count": 19,
      "outputs": [
        {
          "output_type": "execute_result",
          "data": {
            "text/html": [
              "<div>\n",
              "<style scoped>\n",
              "    .dataframe tbody tr th:only-of-type {\n",
              "        vertical-align: middle;\n",
              "    }\n",
              "\n",
              "    .dataframe tbody tr th {\n",
              "        vertical-align: top;\n",
              "    }\n",
              "\n",
              "    .dataframe thead th {\n",
              "        text-align: right;\n",
              "    }\n",
              "</style>\n",
              "<table border=\"1\" class=\"dataframe\">\n",
              "  <thead>\n",
              "    <tr style=\"text-align: right;\">\n",
              "      <th></th>\n",
              "      <th>genreId</th>\n",
              "      <th>genre</th>\n",
              "    </tr>\n",
              "  </thead>\n",
              "  <tbody>\n",
              "    <tr>\n",
              "      <th>0</th>\n",
              "      <td>0</td>\n",
              "      <td>Adventure</td>\n",
              "    </tr>\n",
              "    <tr>\n",
              "      <th>1</th>\n",
              "      <td>1</td>\n",
              "      <td>Animation</td>\n",
              "    </tr>\n",
              "    <tr>\n",
              "      <th>2</th>\n",
              "      <td>2</td>\n",
              "      <td>Children</td>\n",
              "    </tr>\n",
              "    <tr>\n",
              "      <th>3</th>\n",
              "      <td>3</td>\n",
              "      <td>Comedy</td>\n",
              "    </tr>\n",
              "    <tr>\n",
              "      <th>4</th>\n",
              "      <td>4</td>\n",
              "      <td>Fantasy</td>\n",
              "    </tr>\n",
              "    <tr>\n",
              "      <th>5</th>\n",
              "      <td>5</td>\n",
              "      <td>Romance</td>\n",
              "    </tr>\n",
              "    <tr>\n",
              "      <th>6</th>\n",
              "      <td>6</td>\n",
              "      <td>Drama</td>\n",
              "    </tr>\n",
              "    <tr>\n",
              "      <th>7</th>\n",
              "      <td>7</td>\n",
              "      <td>Action</td>\n",
              "    </tr>\n",
              "    <tr>\n",
              "      <th>8</th>\n",
              "      <td>8</td>\n",
              "      <td>Crime</td>\n",
              "    </tr>\n",
              "    <tr>\n",
              "      <th>9</th>\n",
              "      <td>9</td>\n",
              "      <td>Thriller</td>\n",
              "    </tr>\n",
              "    <tr>\n",
              "      <th>10</th>\n",
              "      <td>10</td>\n",
              "      <td>Horror</td>\n",
              "    </tr>\n",
              "    <tr>\n",
              "      <th>11</th>\n",
              "      <td>11</td>\n",
              "      <td>Mystery</td>\n",
              "    </tr>\n",
              "    <tr>\n",
              "      <th>12</th>\n",
              "      <td>12</td>\n",
              "      <td>Sci-Fi</td>\n",
              "    </tr>\n",
              "    <tr>\n",
              "      <th>13</th>\n",
              "      <td>13</td>\n",
              "      <td>War</td>\n",
              "    </tr>\n",
              "    <tr>\n",
              "      <th>14</th>\n",
              "      <td>14</td>\n",
              "      <td>Musical</td>\n",
              "    </tr>\n",
              "    <tr>\n",
              "      <th>15</th>\n",
              "      <td>15</td>\n",
              "      <td>Documentary</td>\n",
              "    </tr>\n",
              "    <tr>\n",
              "      <th>16</th>\n",
              "      <td>16</td>\n",
              "      <td>IMAX</td>\n",
              "    </tr>\n",
              "    <tr>\n",
              "      <th>17</th>\n",
              "      <td>17</td>\n",
              "      <td>Western</td>\n",
              "    </tr>\n",
              "    <tr>\n",
              "      <th>18</th>\n",
              "      <td>18</td>\n",
              "      <td>Film-Noir</td>\n",
              "    </tr>\n",
              "    <tr>\n",
              "      <th>19</th>\n",
              "      <td>19</td>\n",
              "      <td>(no genres listed)</td>\n",
              "    </tr>\n",
              "  </tbody>\n",
              "</table>\n",
              "</div>"
            ],
            "text/plain": [
              "    genreId               genre\n",
              "0         0           Adventure\n",
              "1         1           Animation\n",
              "2         2            Children\n",
              "3         3              Comedy\n",
              "4         4             Fantasy\n",
              "5         5             Romance\n",
              "6         6               Drama\n",
              "7         7              Action\n",
              "8         8               Crime\n",
              "9         9            Thriller\n",
              "10       10              Horror\n",
              "11       11             Mystery\n",
              "12       12              Sci-Fi\n",
              "13       13                 War\n",
              "14       14             Musical\n",
              "15       15         Documentary\n",
              "16       16                IMAX\n",
              "17       17             Western\n",
              "18       18           Film-Noir\n",
              "19       19  (no genres listed)"
            ]
          },
          "metadata": {
            "tags": []
          },
          "execution_count": 19
        }
      ]
    },
    {
      "cell_type": "markdown",
      "metadata": {
        "id": "Ax287KBgRfdU",
        "colab_type": "text"
      },
      "source": [
        "## Desafio 6 da [Thais André](https://twitter.com/thais_tandre)\n",
        "\n",
        "Contar o número de aparições de cada genero."
      ]
    },
    {
      "cell_type": "code",
      "metadata": {
        "id": "EgOyazWpQAz3",
        "colab_type": "code",
        "colab": {}
      },
      "source": [
        "contagem_generos = generos[['movieId']].groupby(generos['genres']).count()\n",
        "contagem_generos.columns = [\"countGenres\"]\n",
        "contagem_generos = contagem_generos.reset_index([0, 'genres'])\n",
        "contagem_generos.columns = ['genres', 'countGenres']"
      ],
      "execution_count": 0,
      "outputs": []
    },
    {
      "cell_type": "code",
      "metadata": {
        "id": "YKc5R6D0R98Y",
        "colab_type": "code",
        "outputId": "4a7ac515-10da-472c-d1b8-09956c2b1a96",
        "colab": {
          "base_uri": "https://localhost:8080/",
          "height": 0
        }
      },
      "source": [
        "contagem_generos.sort_values(\"countGenres\",ascending=False)"
      ],
      "execution_count": 21,
      "outputs": [
        {
          "output_type": "execute_result",
          "data": {
            "text/html": [
              "<div>\n",
              "<style scoped>\n",
              "    .dataframe tbody tr th:only-of-type {\n",
              "        vertical-align: middle;\n",
              "    }\n",
              "\n",
              "    .dataframe tbody tr th {\n",
              "        vertical-align: top;\n",
              "    }\n",
              "\n",
              "    .dataframe thead th {\n",
              "        text-align: right;\n",
              "    }\n",
              "</style>\n",
              "<table border=\"1\" class=\"dataframe\">\n",
              "  <thead>\n",
              "    <tr style=\"text-align: right;\">\n",
              "      <th></th>\n",
              "      <th>genres</th>\n",
              "      <th>countGenres</th>\n",
              "    </tr>\n",
              "  </thead>\n",
              "  <tbody>\n",
              "    <tr>\n",
              "      <th>8</th>\n",
              "      <td>Drama</td>\n",
              "      <td>4361</td>\n",
              "    </tr>\n",
              "    <tr>\n",
              "      <th>5</th>\n",
              "      <td>Comedy</td>\n",
              "      <td>3756</td>\n",
              "    </tr>\n",
              "    <tr>\n",
              "      <th>17</th>\n",
              "      <td>Thriller</td>\n",
              "      <td>1894</td>\n",
              "    </tr>\n",
              "    <tr>\n",
              "      <th>1</th>\n",
              "      <td>Action</td>\n",
              "      <td>1828</td>\n",
              "    </tr>\n",
              "    <tr>\n",
              "      <th>15</th>\n",
              "      <td>Romance</td>\n",
              "      <td>1596</td>\n",
              "    </tr>\n",
              "    <tr>\n",
              "      <th>2</th>\n",
              "      <td>Adventure</td>\n",
              "      <td>1263</td>\n",
              "    </tr>\n",
              "    <tr>\n",
              "      <th>6</th>\n",
              "      <td>Crime</td>\n",
              "      <td>1199</td>\n",
              "    </tr>\n",
              "    <tr>\n",
              "      <th>16</th>\n",
              "      <td>Sci-Fi</td>\n",
              "      <td>980</td>\n",
              "    </tr>\n",
              "    <tr>\n",
              "      <th>11</th>\n",
              "      <td>Horror</td>\n",
              "      <td>978</td>\n",
              "    </tr>\n",
              "    <tr>\n",
              "      <th>9</th>\n",
              "      <td>Fantasy</td>\n",
              "      <td>779</td>\n",
              "    </tr>\n",
              "    <tr>\n",
              "      <th>4</th>\n",
              "      <td>Children</td>\n",
              "      <td>664</td>\n",
              "    </tr>\n",
              "    <tr>\n",
              "      <th>3</th>\n",
              "      <td>Animation</td>\n",
              "      <td>611</td>\n",
              "    </tr>\n",
              "    <tr>\n",
              "      <th>14</th>\n",
              "      <td>Mystery</td>\n",
              "      <td>573</td>\n",
              "    </tr>\n",
              "    <tr>\n",
              "      <th>7</th>\n",
              "      <td>Documentary</td>\n",
              "      <td>440</td>\n",
              "    </tr>\n",
              "    <tr>\n",
              "      <th>18</th>\n",
              "      <td>War</td>\n",
              "      <td>382</td>\n",
              "    </tr>\n",
              "    <tr>\n",
              "      <th>13</th>\n",
              "      <td>Musical</td>\n",
              "      <td>334</td>\n",
              "    </tr>\n",
              "    <tr>\n",
              "      <th>19</th>\n",
              "      <td>Western</td>\n",
              "      <td>167</td>\n",
              "    </tr>\n",
              "    <tr>\n",
              "      <th>12</th>\n",
              "      <td>IMAX</td>\n",
              "      <td>158</td>\n",
              "    </tr>\n",
              "    <tr>\n",
              "      <th>10</th>\n",
              "      <td>Film-Noir</td>\n",
              "      <td>87</td>\n",
              "    </tr>\n",
              "    <tr>\n",
              "      <th>0</th>\n",
              "      <td>(no genres listed)</td>\n",
              "      <td>34</td>\n",
              "    </tr>\n",
              "  </tbody>\n",
              "</table>\n",
              "</div>"
            ],
            "text/plain": [
              "                genres  countGenres\n",
              "8                Drama         4361\n",
              "5               Comedy         3756\n",
              "17            Thriller         1894\n",
              "1               Action         1828\n",
              "15             Romance         1596\n",
              "2            Adventure         1263\n",
              "6                Crime         1199\n",
              "16              Sci-Fi          980\n",
              "11              Horror          978\n",
              "9              Fantasy          779\n",
              "4             Children          664\n",
              "3            Animation          611\n",
              "14             Mystery          573\n",
              "7          Documentary          440\n",
              "18                 War          382\n",
              "13             Musical          334\n",
              "19             Western          167\n",
              "12                IMAX          158\n",
              "10           Film-Noir           87\n",
              "0   (no genres listed)           34"
            ]
          },
          "metadata": {
            "tags": []
          },
          "execution_count": 21
        }
      ]
    },
    {
      "cell_type": "markdown",
      "metadata": {
        "id": "HBUvQjyJS44b",
        "colab_type": "text"
      },
      "source": [
        "## Desafio 7 do [Guilherme Silveira](https://twitter.com/guilhermecaelum)\n",
        "\n",
        "Plotar o gráfico de aparições de cada genero. Pode ser um gráfico de tipo igual a barra."
      ]
    },
    {
      "cell_type": "code",
      "metadata": {
        "id": "bYtFgzfBSZ6X",
        "colab_type": "code",
        "outputId": "434765a9-1fb1-41c5-f61c-ef5d7d56e735",
        "colab": {
          "base_uri": "https://localhost:8080/",
          "height": 617
        }
      },
      "source": [
        "plt.rcParams['figure.figsize'] = (17,10)\n",
        "\n",
        "contagem_generos = contagem_generos.sort_values('countGenres',ascending=True)\n",
        "\n",
        "y_pos = np.arange(len(contagem_generos[\"countGenres\"]))\n",
        "\n",
        "x_pos = np.arange(max(contagem_generos[\"countGenres\"]),step=500)\n",
        "\n",
        "plt.barh(y_pos, contagem_generos[\"countGenres\"])\n",
        "\n",
        "plt.yticks(y_pos, contagem_generos[\"genres\"],fontsize=15)\n",
        "plt.xticks(x_pos,fontsize=15)\n",
        "# naming the x-axis \n",
        "plt.xlabel('Quantidade de Aparições de Cada Gênero', fontsize=15) \n",
        "# naming the y-axis \n",
        "plt.ylabel('Título do Gênero',fontsize=15) \n",
        "# plot title \n",
        "\n",
        "for i, v in enumerate(contagem_generos[\"countGenres\"]):\n",
        "  plt.text(v + 20, i - 0.2, str(v), color='blue', fontsize=13)\n",
        "\n",
        "\n",
        "\n",
        "\n",
        "plt.show() "
      ],
      "execution_count": 40,
      "outputs": [
        {
          "output_type": "display_data",
          "data": {
            "image/png": "[encoded data removed]",
            "text/plain": [
              "<Figure size 1224x720 with 1 Axes>"
            ]
          },
          "metadata": {
            "tags": [],
            "needs_background": "light"
          }
        }
      ]
    },
    {
      "cell_type": "code",
      "metadata": {
        "id": "xrm0AQByivJT",
        "colab_type": "code",
        "colab": {}
      },
      "source": [
        ""
      ],
      "execution_count": 0,
      "outputs": []
    },
    {
      "cell_type": "code",
      "metadata": {
        "id": "XscrbBjBlNYe",
        "colab_type": "code",
        "colab": {}
      },
      "source": [
        ""
      ],
      "execution_count": 0,
      "outputs": []
    },
    {
      "cell_type": "markdown",
      "metadata": {
        "id": "jOiy91iSlTbE",
        "colab_type": "text"
      },
      "source": [
        "# Aula 02"
      ]
    },
    {
      "cell_type": "markdown",
      "metadata": {
        "id": "ogd_01fKlsEW",
        "colab_type": "text"
      },
      "source": [
        "##Desafio 1 do [Guilherme Silveira](https://twitter.com/guilhermecaelum)\n",
        "\n",
        "Rotacionar os thicks (os nomes dos generos) do gráfico de barras verdes (o último), de forma a deixar as legendas mais legíveis."
      ]
    },
    {
      "cell_type": "code",
      "metadata": {
        "id": "YOpIw26alV5i",
        "colab_type": "code",
        "colab": {
          "base_uri": "https://localhost:8080/",
          "height": 542
        },
        "outputId": "4b9fc7ab-993a-4d06-b775-3fc0fd7fe6cd"
      },
      "source": [
        "sns.set_style(\"whitegrid\")\n",
        "\n",
        "contagem_generos = movies[\"genres\"].str.get_dummies('|').sum().sort_values(ascending=False)\n",
        "plt.figure(figsize=(16,8))\n",
        "\n",
        "labels_y = np.arange(max(contagem_generos.values),step=500)\n",
        "\n",
        "plot_generos = sns.barplot(x=contagem_generos.index,\n",
        "                     y=contagem_generos.values,\n",
        "                     palette=sns.color_palette(\"BuGn_r\", n_colors=len(contagem_generos) + 4))\n",
        "\n",
        "plot_generos.set_xticklabels(plot_generos.get_xticklabels(),rotation=45)\n",
        "\n",
        "plot_generos.set_yticks(labels_y)\n",
        "         \n",
        "plt.show()"
      ],
      "execution_count": 73,
      "outputs": [
        {
          "output_type": "display_data",
          "data": {
            "image/png": "[encoded data removed]",
            "text/plain": [
              "<Figure size 1152x576 with 1 Axes>"
            ]
          },
          "metadata": {
            "tags": []
          }
        }
      ]
    },
    {
      "cell_type": "markdown",
      "metadata": {
        "id": "-GAtyBODwOSm",
        "colab_type": "text"
      },
      "source": [
        "## Desafio 2 do [Paulo Silveira](https://twitter.com/paulo_caelum)\n",
        "\n",
        "Encontar vários filmes com médias próximas e distribuições diferentes, use a função **plot_filmes(n)** para plotar."
      ]
    },
    {
      "cell_type": "code",
      "metadata": {
        "id": "5BsUKJsTlru1",
        "colab_type": "code",
        "colab": {}
      },
      "source": [
        "def plot_filme(n):\n",
        "  fig, axs = plt.subplots(ncols=3)\n",
        "  \n",
        "  #fig,(axs,tabax) = plt.subplots(ncols=2, gridspec_kw=dict(width_ratios=[2,1]))\n",
        "  \n",
        "  plt.figure(figsize=(8,10))\n",
        "  notas_do_filme = ratings.query(f\"movieId=={n}\")[\"rating\"]\n",
        "  plot_hist = notas_do_filme.plot(kind='hist',ax=axs[0])\n",
        "  plot_hist.set_xlabel('Notas')\n",
        "  \n",
        "  plt.figure(figsize=(8,10))\n",
        "  plot_box = notas_do_filme.plot.box(ax=axs[1])\n",
        "  nome_do_filme = movies.query(f\"movieId=={n}\")[\"title\"]\n",
        "  plot_box.set_xticklabels(nome_do_filme)\n",
        "\n",
        "  summary = notas_do_filme.describe().to_frame()\n",
        "  plot_table = axs[2].table(cellText=summary.values,\n",
        "          rowLabels=summary.index,\n",
        "          colLabels=[\"Descricao Coluna Notas\"],\n",
        "          cellLoc = 'right', rowLoc = 'right',\n",
        "          loc='center')\n",
        "  axs[2].axis(\"off\") \n",
        "  \n",
        "\n",
        "\n",
        "  plt.show()\n",
        "  print('\\n')\n",
        "  return "
      ],
      "execution_count": 0,
      "outputs": []
    },
    {
      "cell_type": "code",
      "metadata": {
        "id": "lVf4D4EAwoIh",
        "colab_type": "code",
        "colab": {}
      },
      "source": [
        "media_filmes_nao_redonda = filmes_com_media.query(\"nota_media > 4.3 and nota_media < 4.33\").sort_values(\"nota_media\",ascending=False)\n",
        "\n",
        "for id_filme in media_filmes_nao_redonda[\"movieId\"]:\n",
        "  plot_filme(id_filme)"
      ],
      "execution_count": 0,
      "outputs": []
    },
    {
      "cell_type": "markdown",
      "metadata": {
        "id": "8BR0EoZoIqJ_",
        "colab_type": "text"
      },
      "source": [
        "## Desafio 3 do [Paulo Silveira](https://twitter.com/paulo_caelum)\n",
        "\n",
        " Criar o boxplot dos 10 filmes com mais votos (não é com maior média, é com mais votos!). Não apenas plot mas também analise e tente tirar conclusões."
      ]
    },
    {
      "cell_type": "code",
      "metadata": {
        "id": "naGgZaavIr0O",
        "colab_type": "code",
        "colab": {}
      },
      "source": [
        "def box_plot_top_dez(n):\n",
        "  fig, axs = plt.subplots(ncols=2)\n",
        "  \n",
        "  plt.figure(figsize=(8,10))\n",
        "  notas_do_filme = ratings.query(f\"movieId=={n}\")[\"rating\"]\n",
        "  nome_do_filme = movies.query(f\"movieId=={n}\")\n",
        "  plt.figure(figsize=(8,10))\n",
        "  plot_box = notas_do_filme.plot.box(ax=axs[0])\n",
        "  plot_box.set_xticklabels('Notas')\n",
        "\n",
        "  summary = notas_do_filme.describe().to_frame()\n",
        "  plot_table = axs[1].table(cellText=summary.values,\n",
        "          rowLabels=summary.index,\n",
        "          colLabels=[\"Descricao Coluna Notas\"],\n",
        "          cellLoc = 'right', rowLoc = 'right',\n",
        "          loc='center')\n",
        "  axs[1].axis(\"off\") \n",
        "  \n",
        "  plt.show()\n",
        "  print('\\n')\n",
        "  return "
      ],
      "execution_count": 0,
      "outputs": []
    },
    {
      "cell_type": "code",
      "metadata": {
        "id": "Ru9fBeb16HNv",
        "colab_type": "code",
        "colab": {}
      },
      "source": [
        "top_dez_votos = contagem_notas.sort_values(\"countRating\",ascending=False).head(10)\n",
        "\n",
        "for id_filme in top_dez_votos.index:\n",
        "  box_plot_top_dez(id_filme)\n"
      ],
      "execution_count": 0,
      "outputs": []
    },
    {
      "cell_type": "markdown",
      "metadata": {
        "id": "eOIwK5dwLUL2",
        "colab_type": "text"
      },
      "source": [
        "## Desafio 4 do [Guilherme Silveira](https://twitter.com/guilhermecaelum)\n",
        "\n",
        "Configurar a visualização do boxplot gerado pelo seaborn (último boxplot plotado na aula). Configurar o tamanho e colocar o nome dos filmes nos thicks."
      ]
    },
    {
      "cell_type": "code",
      "metadata": {
        "id": "IkysU0x3Lb45",
        "colab_type": "code",
        "colab": {}
      },
      "source": [
        "def box_plot_top_dez_nome(n):\n",
        "  fig, axs = plt.subplots(ncols=2)\n",
        "  \n",
        "  plt.figure(figsize=(8,10))\n",
        "  notas_do_filme = ratings.query(f\"movieId=={n}\")[\"rating\"]\n",
        "  plt.figure(figsize=(8,10))\n",
        "  plot_box = notas_do_filme.plot.box(ax=axs[0])\n",
        "\n",
        "  nome_do_filme = movies.query(f\"movieId=={n}\")[\"title\"]\n",
        "  plot_box.set_xticklabels(nome_do_filme)\n",
        "  \n",
        "  summary = notas_do_filme.describe().to_frame()\n",
        "  plot_table = axs[1].table(cellText=summary.values,\n",
        "          rowLabels=summary.index,\n",
        "          colLabels=[\"Descricao Coluna Notas\"],\n",
        "          cellLoc = 'right', rowLoc = 'right',\n",
        "          loc='center')\n",
        "  axs[1].axis(\"off\") \n",
        "  \n",
        "  plt.show()\n",
        "  print('\\n')\n",
        "  return "
      ],
      "execution_count": 0,
      "outputs": []
    },
    {
      "cell_type": "code",
      "metadata": {
        "id": "ReGtIR_QL8OW",
        "colab_type": "code",
        "colab": {}
      },
      "source": [
        "top_dez_votos = contagem_notas.sort_values(\"countRating\",ascending=False).head(10)\n",
        "\n",
        "for id_filme in top_dez_votos.index:\n",
        "  box_plot_top_dez_nome(id_filme)\n"
      ],
      "execution_count": 0,
      "outputs": []
    },
    {
      "cell_type": "markdown",
      "metadata": {
        "id": "M3_Xxh6RQCfL",
        "colab_type": "text"
      },
      "source": [
        "## Desafio 5 do [Allan Spadini](https://twitter.com/allanspadini)\n",
        "\n",
        "Calcular moda, média e mediana dos filmes. Explore filmes com notas mais próximas de 0.5, 3 e 5."
      ]
    },
    {
      "cell_type": "code",
      "metadata": {
        "id": "ajGws_5faaL_",
        "colab_type": "code",
        "colab": {}
      },
      "source": [
        "def moda_media_mediana(n):\n",
        "  mediana = ratings.query(f\"movieId=={n}\")[\"rating\"].median()\n",
        "  media = ratings.query(f\"movieId=={n}\")[\"rating\"].mean()\n",
        "  nome_do_filme = movies.query(f\"movieId=={n}\")[\"title\"]\n",
        "\n",
        "  print(\"Filme: \", nome_do_filme.values[0])\n",
        "  print(\"Media: \", media)\n",
        "  print(\"Mediana: \", mediana)\n",
        "  print(\"Moda: \")\n",
        "  print(\"\\n\")\n",
        "  return"
      ],
      "execution_count": 0,
      "outputs": []
    },
    {
      "cell_type": "code",
      "metadata": {
        "id": "ifJX66NUa1cp",
        "colab_type": "code",
        "colab": {}
      },
      "source": [
        ""
      ],
      "execution_count": 0,
      "outputs": []
    },
    {
      "cell_type": "code",
      "metadata": {
        "id": "dKfe-rtna1fK",
        "colab_type": "code",
        "colab": {
          "base_uri": "https://localhost:8080/",
          "height": 1000
        },
        "outputId": "6dc01e8e-53a9-4d2d-d21c-30975b59cec2"
      },
      "source": [
        "filmes_proximos = filmes_com_media.query(\"(nota_media >= 0.5 and nota_media < 0.6) or (nota_media > 2.7 and nota_media < 3.3) or (nota_media > 4.6 and nota_media < 5)\")\n",
        "\n",
        "for id_filme in filmes_proximos[\"movieId\"][15:25]:\n",
        "  moda_media_mediana(id_filme)"
      ],
      "execution_count": 407,
      "outputs": [
        {
          "output_type": "stream",
          "text": [
            "Filme:  Restoration (1995)\n",
            "Media:  3.1875\n",
            "Mediana:  3.0\n",
            "Moda: \n",
            "\n",
            "\n",
            "Filme:  How to Make an American Quilt (1995)\n",
            "Media:  3.066666666666667\n",
            "Mediana:  3.0\n",
            "Moda: \n",
            "\n",
            "\n",
            "Filme:  Pocahontas (1995)\n",
            "Media:  3.1470588235294117\n",
            "Mediana:  3.0\n",
            "Moda: \n",
            "\n",
            "\n",
            "Filme:  When Night Is Falling (1995)\n",
            "Media:  3.0\n",
            "Mediana:  3.0\n",
            "Moda: \n",
            "\n",
            "\n",
            "Filme:  Home for the Holidays (1995)\n",
            "Media:  3.0625\n",
            "Mediana:  3.0\n",
            "Moda: \n",
            "\n",
            "\n",
            "Filme:  Indian in the Cupboard, The (1995)\n",
            "Media:  3.235294117647059\n",
            "Mediana:  3.0\n",
            "Moda: \n",
            "\n",
            "\n",
            "Filme:  Don't Be a Menace to South Central While Drinking Your Juice in the Hood (1996)\n",
            "Media:  2.7142857142857144\n",
            "Mediana:  3.0\n",
            "Moda: \n",
            "\n",
            "\n",
            "Filme:  Kicking and Screaming (1995)\n",
            "Media:  3.2142857142857144\n",
            "Mediana:  4.0\n",
            "Moda: \n",
            "\n",
            "\n",
            "Filme:  Juror, The (1996)\n",
            "Media:  2.764705882352941\n",
            "Mediana:  2.0\n",
            "Moda: \n",
            "\n",
            "\n",
            "Filme:  Things to Do in Denver When You're Dead (1995)\n",
            "Media:  3.107142857142857\n",
            "Mediana:  3.0\n",
            "Moda: \n",
            "\n",
            "\n"
          ],
          "name": "stdout"
        }
      ]
    },
    {
      "cell_type": "code",
      "metadata": {
        "id": "JgrgZqySa1pF",
        "colab_type": "code",
        "colab": {}
      },
      "source": [
        ""
      ],
      "execution_count": 0,
      "outputs": []
    },
    {
      "cell_type": "markdown",
      "metadata": {
        "id": "96dUMI-xQMyx",
        "colab_type": "text"
      },
      "source": [
        "## Desafio 6 da [Thais André](https://twitter.com/thais_tandre)\n",
        "\n",
        "Plotar o boxplot e o histograma um do lado do outro (na mesma figura ou em figuras distintas, mas um do lado do outro)."
      ]
    },
    {
      "cell_type": "code",
      "metadata": {
        "id": "s0hYl2VVMdwF",
        "colab_type": "code",
        "colab": {
          "base_uri": "https://localhost:8080/",
          "height": 674
        },
        "outputId": "f53bb5dc-792b-404b-8230-b73cc0152067"
      },
      "source": [
        "plot_filme(\"27\")"
      ],
      "execution_count": 352,
      "outputs": [
        {
          "output_type": "display_data",
          "data": {
            "image/png": "[encoded data removed]",
            "text/plain": [
              "<Figure size 1224x720 with 3 Axes>"
            ]
          },
          "metadata": {
            "tags": []
          }
        },
        {
          "output_type": "display_data",
          "data": {
            "text/plain": [
              "<Figure size 576x720 with 0 Axes>"
            ]
          },
          "metadata": {
            "tags": []
          }
        },
        {
          "output_type": "display_data",
          "data": {
            "text/plain": [
              "<Figure size 576x720 with 0 Axes>"
            ]
          },
          "metadata": {
            "tags": []
          }
        },
        {
          "output_type": "stream",
          "text": [
            "\n",
            "\n"
          ],
          "name": "stdout"
        }
      ]
    },
    {
      "cell_type": "markdown",
      "metadata": {
        "id": "Z9ajBymNQ5p8",
        "colab_type": "text"
      },
      "source": [
        "## Desafio 7 do [Thiago Gonçalves](https://twitter.com/tgcsantos)\n",
        "\n",
        "Criar um gráfico de notas médias por ano (média geral considerando todos os filmes lançados naquele ano)."
      ]
    },
    {
      "cell_type": "code",
      "metadata": {
        "id": "7729_LHKQ96g",
        "colab_type": "code",
        "colab": {
          "base_uri": "https://localhost:8080/",
          "height": 450
        },
        "outputId": "72b350cf-17a8-46c7-d54e-4b790e6e6b1b"
      },
      "source": [
        "filmes_ano = filmes_com_media.copy()\n",
        "\n",
        "filmes_ano[\"title\"] = filmes_ano[\"title\"].str.extract('(\\([0-9]{4}\\))',expand=False).dropna()\n",
        "\n",
        "ratings[['userId']].groupby(ratings['movieId']).count()\n",
        "\n",
        "filmes_ano_media = filmes_ano[['nota_media']].groupby(filmes_ano[\"title\"]).mean()\n",
        "\n",
        "filmes_ano_media[\"nota_media\"].sort_values(ascending=False).to_frame()"
      ],
      "execution_count": 377,
      "outputs": [
        {
          "output_type": "execute_result",
          "data": {
            "text/html": [
              "<div>\n",
              "<style scoped>\n",
              "    .dataframe tbody tr th:only-of-type {\n",
              "        vertical-align: middle;\n",
              "    }\n",
              "\n",
              "    .dataframe tbody tr th {\n",
              "        vertical-align: top;\n",
              "    }\n",
              "\n",
              "    .dataframe thead th {\n",
              "        text-align: right;\n",
              "    }\n",
              "</style>\n",
              "<table border=\"1\" class=\"dataframe\">\n",
              "  <thead>\n",
              "    <tr style=\"text-align: right;\">\n",
              "      <th></th>\n",
              "      <th>nota_media</th>\n",
              "    </tr>\n",
              "    <tr>\n",
              "      <th>title</th>\n",
              "      <th></th>\n",
              "    </tr>\n",
              "  </thead>\n",
              "  <tbody>\n",
              "    <tr>\n",
              "      <th>(1917)</th>\n",
              "      <td>4.500000</td>\n",
              "    </tr>\n",
              "    <tr>\n",
              "      <th>(1921)</th>\n",
              "      <td>4.100000</td>\n",
              "    </tr>\n",
              "    <tr>\n",
              "      <th>(1934)</th>\n",
              "      <td>4.051190</td>\n",
              "    </tr>\n",
              "    <tr>\n",
              "      <th>(1908)</th>\n",
              "      <td>4.000000</td>\n",
              "    </tr>\n",
              "    <tr>\n",
              "      <th>(1926)</th>\n",
              "      <td>4.000000</td>\n",
              "    </tr>\n",
              "    <tr>\n",
              "      <th>...</th>\n",
              "      <td>...</td>\n",
              "    </tr>\n",
              "    <tr>\n",
              "      <th>(1987)</th>\n",
              "      <td>3.041854</td>\n",
              "    </tr>\n",
              "    <tr>\n",
              "      <th>(1991)</th>\n",
              "      <td>3.030564</td>\n",
              "    </tr>\n",
              "    <tr>\n",
              "      <th>(1903)</th>\n",
              "      <td>2.500000</td>\n",
              "    </tr>\n",
              "    <tr>\n",
              "      <th>(1919)</th>\n",
              "      <td>2.000000</td>\n",
              "    </tr>\n",
              "    <tr>\n",
              "      <th>(1915)</th>\n",
              "      <td>2.000000</td>\n",
              "    </tr>\n",
              "  </tbody>\n",
              "</table>\n",
              "<p>106 rows × 1 columns</p>\n",
              "</div>"
            ],
            "text/plain": [
              "        nota_media\n",
              "title             \n",
              "(1917)    4.500000\n",
              "(1921)    4.100000\n",
              "(1934)    4.051190\n",
              "(1908)    4.000000\n",
              "(1926)    4.000000\n",
              "...            ...\n",
              "(1987)    3.041854\n",
              "(1991)    3.030564\n",
              "(1903)    2.500000\n",
              "(1919)    2.000000\n",
              "(1915)    2.000000\n",
              "\n",
              "[106 rows x 1 columns]"
            ]
          },
          "metadata": {
            "tags": []
          },
          "execution_count": 377
        }
      ]
    }
  ]
}